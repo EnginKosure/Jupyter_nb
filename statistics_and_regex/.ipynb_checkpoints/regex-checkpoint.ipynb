{
 "cells": [
  {
   "cell_type": "markdown",
   "metadata": {},
   "source": [
    "# REGEX\n",
    "## Expressions\n",
    "\n",
    "\\d: Any numeric digit from 0 to 9\n",
    "\\D Matches any char which is not a decimal digit. This is the opposite of \\d\n",
    "\\w Any letter, numeric digit or the underscore char (Think of this as matching 'word' chars)\n",
    "\\W Any char that is not a letter, numeric digit or underscore char (opposite of \\w)\n",
    "\\s Any space, tab or newline char (Think of this as matching white-space chars)\n",
    "\\S Any char that is not a space, tab or newline (opposite of \\s)"
   ]
  },
  {
   "cell_type": "code",
   "execution_count": null,
   "metadata": {},
   "outputs": [],
   "source": []
  },
  {
   "cell_type": "code",
   "execution_count": null,
   "metadata": {},
   "outputs": [],
   "source": []
  },
  {
   "cell_type": "code",
   "execution_count": null,
   "metadata": {},
   "outputs": [],
   "source": []
  },
  {
   "cell_type": "code",
   "execution_count": null,
   "metadata": {},
   "outputs": [],
   "source": []
  },
  {
   "cell_type": "code",
   "execution_count": null,
   "metadata": {},
   "outputs": [],
   "source": []
  }
 ],
 "metadata": {
  "kernelspec": {
   "display_name": "Python 3",
   "language": "python",
   "name": "python3"
  },
  "language_info": {
   "codemirror_mode": {
    "name": "ipython",
    "version": 3
   },
   "file_extension": ".py",
   "mimetype": "text/x-python",
   "name": "python",
   "nbconvert_exporter": "python",
   "pygments_lexer": "ipython3",
   "version": "3.7.6"
  }
 },
 "nbformat": 4,
 "nbformat_minor": 2
}
