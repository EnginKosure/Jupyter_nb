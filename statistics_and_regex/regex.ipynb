{
 "cells": [
  {
   "cell_type": "markdown",
   "metadata": {},
   "source": [
    "%%markdown\n",
    "# REGEX\n",
    "## Expressions\n",
    "\n",
    "**\\d** Any numeric digit from 0 to 9 <br>\n",
    "**\\D** Matches any char which is not a decimal digit. _This is the opposite of \\d_  \n",
    "**\\w** Any letter, numeric digit or the underscore char (Think of this as matching 'word' chars)   \n",
    "**\\W** Any char that is not a letter, numeric digit or underscore char (opposite of \\w)   \n",
    "**\\s** Any space, tab or newline char (Think of this as matching white-space chars)   \n",
    "**\\S** Any char that is not a space, tab or newline (opposite of \\s) \n",
    "> Text that will be indented when the Markdown is rendered."
   ]
  },
  {
   "cell_type": "markdown",
   "metadata": {},
   "source": [
    "`sfs`"
   ]
  },
  {
   "cell_type": "markdown",
   "metadata": {},
   "source": [
    "**sfsfvgf**"
   ]
  },
  {
   "cell_type": "markdown",
   "metadata": {},
   "source": []
  },
  {
   "cell_type": "code",
   "execution_count": 11,
   "metadata": {},
   "outputs": [],
   "source": [
    "import pandas as pd \n",
    "import re\n"
   ]
  },
  {
   "cell_type": "code",
   "execution_count": 22,
   "metadata": {},
   "outputs": [],
   "source": [
    "text=re.search('\\d','gvredgvfsdfegr46')"
   ]
  },
  {
   "cell_type": "code",
   "execution_count": 23,
   "metadata": {},
   "outputs": [
    {
     "data": {
      "text/plain": [
       "'4'"
      ]
     },
     "execution_count": 23,
     "metadata": {},
     "output_type": "execute_result"
    }
   ],
   "source": [
    "text.group()"
   ]
  },
  {
   "cell_type": "code",
   "execution_count": 24,
   "metadata": {},
   "outputs": [
    {
     "name": "stdout",
     "output_type": "stream",
     "text": [
      "a\n"
     ]
    }
   ],
   "source": [
    "text=re.search('\\D','22a')\n",
    "print(text.group())"
   ]
  },
  {
   "cell_type": "code",
   "execution_count": 29,
   "metadata": {},
   "outputs": [
    {
     "name": "stdout",
     "output_type": "stream",
     "text": [
      "<re.Match object; span=(19, 36), match='550-494-4234-4234'>\n",
      "550-494-4234-4234\n"
     ]
    }
   ],
   "source": [
    "text='my phone number is 550-494-4234-4234'\n",
    "output=re.search('(\\d\\d\\d)-(\\d\\d\\d)-(\\d\\d\\d\\d)-(\\d\\d\\d\\d)', text)\n",
    "print(output)\n",
    "print(output.group())"
   ]
  },
  {
   "cell_type": "code",
   "execution_count": 33,
   "metadata": {},
   "outputs": [
    {
     "name": "stdout",
     "output_type": "stream",
     "text": [
      "(550) 494-4234-4234\n"
     ]
    }
   ],
   "source": [
    "text='my phone number is (550) 494-4234-4234'\n",
    "output=re.search('(\\(\\d\\d\\d\\)) (\\d\\d\\d-\\d\\d\\d\\d-\\d\\d\\d\\d)', text)\n",
    "print(output.group(1),output.group(2))"
   ]
  },
  {
   "cell_type": "code",
   "execution_count": 38,
   "metadata": {},
   "outputs": [
    {
     "name": "stdout",
     "output_type": "stream",
     "text": [
      "['12', '3', '823', '222', '22']\n"
     ]
    }
   ],
   "source": [
    "value='fsdfs12vsdv3dsfsd823sfgerg22222'\n",
    "output=re.findall('\\d{1,3}',value)#bir basamak dahil, 3 basamak dahil sayilari tespit et demek\n",
    "print(output)"
   ]
  },
  {
   "cell_type": "markdown",
   "metadata": {},
   "source": [
    "### Remove anything other tahn digits and print"
   ]
  },
  {
   "cell_type": "code",
   "execution_count": 45,
   "metadata": {},
   "outputs": [
    {
     "name": "stdout",
     "output_type": "stream",
     "text": [
      "1231231123\n"
     ]
    }
   ],
   "source": [
    "phone='1231231123 # This is a phone number'\n",
    "output=re.sub('\\D','',phone)\n",
    "print(output)"
   ]
  },
  {
   "cell_type": "code",
   "execution_count": 48,
   "metadata": {},
   "outputs": [
    {
     "data": {
      "text/html": [
       "<div>\n",
       "<style scoped>\n",
       "    .dataframe tbody tr th:only-of-type {\n",
       "        vertical-align: middle;\n",
       "    }\n",
       "\n",
       "    .dataframe tbody tr th {\n",
       "        vertical-align: top;\n",
       "    }\n",
       "\n",
       "    .dataframe thead th {\n",
       "        text-align: right;\n",
       "    }\n",
       "</style>\n",
       "<table border=\"1\" class=\"dataframe\">\n",
       "  <thead>\n",
       "    <tr style=\"text-align: right;\">\n",
       "      <th></th>\n",
       "      <th>0</th>\n",
       "    </tr>\n",
       "  </thead>\n",
       "  <tbody>\n",
       "    <tr>\n",
       "      <th>0</th>\n",
       "      <td>3</td>\n",
       "    </tr>\n",
       "    <tr>\n",
       "      <th>1</th>\n",
       "      <td>4</td>\n",
       "    </tr>\n",
       "    <tr>\n",
       "      <th>2</th>\n",
       "      <td>5</td>\n",
       "    </tr>\n",
       "  </tbody>\n",
       "</table>\n",
       "</div>"
      ],
      "text/plain": [
       "   0\n",
       "0  3\n",
       "1  4\n",
       "2  5"
      ]
     },
     "execution_count": 48,
     "metadata": {},
     "output_type": "execute_result"
    }
   ],
   "source": [
    "s=pd.Series(['a3','b4','c5'])\n",
    "s.str.extract('(\\d)')"
   ]
  },
  {
   "cell_type": "code",
   "execution_count": 49,
   "metadata": {},
   "outputs": [
    {
     "data": {
      "text/html": [
       "<div>\n",
       "<style scoped>\n",
       "    .dataframe tbody tr th:only-of-type {\n",
       "        vertical-align: middle;\n",
       "    }\n",
       "\n",
       "    .dataframe tbody tr th {\n",
       "        vertical-align: top;\n",
       "    }\n",
       "\n",
       "    .dataframe thead th {\n",
       "        text-align: right;\n",
       "    }\n",
       "</style>\n",
       "<table border=\"1\" class=\"dataframe\">\n",
       "  <thead>\n",
       "    <tr style=\"text-align: right;\">\n",
       "      <th></th>\n",
       "      <th>0</th>\n",
       "    </tr>\n",
       "  </thead>\n",
       "  <tbody>\n",
       "    <tr>\n",
       "      <th>0</th>\n",
       "      <td>a</td>\n",
       "    </tr>\n",
       "    <tr>\n",
       "      <th>1</th>\n",
       "      <td>b</td>\n",
       "    </tr>\n",
       "    <tr>\n",
       "      <th>2</th>\n",
       "      <td>c</td>\n",
       "    </tr>\n",
       "  </tbody>\n",
       "</table>\n",
       "</div>"
      ],
      "text/plain": [
       "   0\n",
       "0  a\n",
       "1  b\n",
       "2  c"
      ]
     },
     "execution_count": 49,
     "metadata": {},
     "output_type": "execute_result"
    }
   ],
   "source": [
    "s=pd.Series(['a3','b4','c5'])\n",
    "s.str.extract('(\\w)')"
   ]
  },
  {
   "cell_type": "code",
   "execution_count": 50,
   "metadata": {},
   "outputs": [
    {
     "data": {
      "text/html": [
       "<div>\n",
       "<style scoped>\n",
       "    .dataframe tbody tr th:only-of-type {\n",
       "        vertical-align: middle;\n",
       "    }\n",
       "\n",
       "    .dataframe tbody tr th {\n",
       "        vertical-align: top;\n",
       "    }\n",
       "\n",
       "    .dataframe thead th {\n",
       "        text-align: right;\n",
       "    }\n",
       "</style>\n",
       "<table border=\"1\" class=\"dataframe\">\n",
       "  <thead>\n",
       "    <tr style=\"text-align: right;\">\n",
       "      <th></th>\n",
       "      <th>0</th>\n",
       "    </tr>\n",
       "  </thead>\n",
       "  <tbody>\n",
       "    <tr>\n",
       "      <th>0</th>\n",
       "      <td>s3</td>\n",
       "    </tr>\n",
       "    <tr>\n",
       "      <th>1</th>\n",
       "      <td>b4</td>\n",
       "    </tr>\n",
       "    <tr>\n",
       "      <th>2</th>\n",
       "      <td>c5</td>\n",
       "    </tr>\n",
       "  </tbody>\n",
       "</table>\n",
       "</div>"
      ],
      "text/plain": [
       "    0\n",
       "0  s3\n",
       "1  b4\n",
       "2  c5"
      ]
     },
     "execution_count": 50,
     "metadata": {},
     "output_type": "execute_result"
    }
   ],
   "source": [
    "s=pd.Series(['ass3','b4df3','c5fdffd'])\n",
    "s.str.extract('(\\w\\d)')"
   ]
  },
  {
   "cell_type": "code",
   "execution_count": 52,
   "metadata": {},
   "outputs": [
    {
     "data": {
      "text/html": [
       "<div>\n",
       "<style scoped>\n",
       "    .dataframe tbody tr th:only-of-type {\n",
       "        vertical-align: middle;\n",
       "    }\n",
       "\n",
       "    .dataframe tbody tr th {\n",
       "        vertical-align: top;\n",
       "    }\n",
       "\n",
       "    .dataframe thead th {\n",
       "        text-align: right;\n",
       "    }\n",
       "</style>\n",
       "<table border=\"1\" class=\"dataframe\">\n",
       "  <thead>\n",
       "    <tr style=\"text-align: right;\">\n",
       "      <th></th>\n",
       "      <th>0</th>\n",
       "    </tr>\n",
       "  </thead>\n",
       "  <tbody>\n",
       "    <tr>\n",
       "      <th>0</th>\n",
       "      <td>40</td>\n",
       "    </tr>\n",
       "    <tr>\n",
       "      <th>1</th>\n",
       "      <td>8.3</td>\n",
       "    </tr>\n",
       "    <tr>\n",
       "      <th>2</th>\n",
       "      <td>0</td>\n",
       "    </tr>\n",
       "    <tr>\n",
       "      <th>3</th>\n",
       "      <td>7.5</td>\n",
       "    </tr>\n",
       "  </tbody>\n",
       "</table>\n",
       "</div>"
      ],
      "text/plain": [
       "     0\n",
       "0   40\n",
       "1  8.3\n",
       "2    0\n",
       "3  7.5"
      ]
     },
     "execution_count": 52,
     "metadata": {},
     "output_type": "execute_result"
    }
   ],
   "source": [
    "s=pd.Series(['40 l/100 km (comb)','8.3 kg/100 km', '0 l/100 km', '7.5 l/100 km'])\n",
    "result=s.str.extract('(\\d\\d|\\d.\\d|\\d)')# Or ifadesinin kullanimina ornek\n",
    "result"
   ]
  },
  {
   "cell_type": "code",
   "execution_count": 63,
   "metadata": {},
   "outputs": [
    {
     "data": {
      "text/html": [
       "<div>\n",
       "<style scoped>\n",
       "    .dataframe tbody tr th:only-of-type {\n",
       "        vertical-align: middle;\n",
       "    }\n",
       "\n",
       "    .dataframe tbody tr th {\n",
       "        vertical-align: top;\n",
       "    }\n",
       "\n",
       "    .dataframe thead th {\n",
       "        text-align: right;\n",
       "    }\n",
       "</style>\n",
       "<table border=\"1\" class=\"dataframe\">\n",
       "  <thead>\n",
       "    <tr style=\"text-align: right;\">\n",
       "      <th></th>\n",
       "      <th>0</th>\n",
       "      <th>1</th>\n",
       "    </tr>\n",
       "  </thead>\n",
       "  <tbody>\n",
       "    <tr>\n",
       "      <th>0</th>\n",
       "      <td>40</td>\n",
       "      <td>100</td>\n",
       "    </tr>\n",
       "    <tr>\n",
       "      <th>1</th>\n",
       "      <td>8.3</td>\n",
       "      <td>100</td>\n",
       "    </tr>\n",
       "    <tr>\n",
       "      <th>2</th>\n",
       "      <td>0</td>\n",
       "      <td>100</td>\n",
       "    </tr>\n",
       "    <tr>\n",
       "      <th>3</th>\n",
       "      <td>7.5</td>\n",
       "      <td>100</td>\n",
       "    </tr>\n",
       "  </tbody>\n",
       "</table>\n",
       "</div>"
      ],
      "text/plain": [
       "     0    1\n",
       "0   40  100\n",
       "1  8.3  100\n",
       "2    0  100\n",
       "3  7.5  100"
      ]
     },
     "execution_count": 63,
     "metadata": {},
     "output_type": "execute_result"
    }
   ],
   "source": [
    "s=pd.Series(['40 l/100 km (comb)','8.3 kg/100 km', '0 l/100 km', '7.5 l/100 km'])\n",
    "result=s.str.extract('(^\\d\\d|\\d.\\d|\\d).+(\\d\\d\\d)')# Or ifadesinin kullanimina ornek\n",
    "#Burada aradaki nokta '.' Any char (except newline char) anlamina geliyor.\n",
    "result"
   ]
  },
  {
   "cell_type": "code",
   "execution_count": 66,
   "metadata": {},
   "outputs": [
    {
     "data": {
      "text/plain": [
       "\"\\n'[]' A set of chars '[a-m]'    \\n'' Signals a special sequence (can also be used to escape special chars)  \\n'.' Any char (except newline char)   \\n'^' Starts with '^hello'   \\n'$' Ends with 'world$'     \\n'*' Zero or more occurences   \\n'+' One or more occurences   \\n'{}' Exactly the specified number of occurences   \\n'|' Either or 'falls|stays'   \\n'()' Capture and group \\n\""
      ]
     },
     "execution_count": 66,
     "metadata": {},
     "output_type": "execute_result"
    }
   ],
   "source": [
    "'''\n",
    "'[]' A set of chars '[a-m]'    \n",
    "'\\' Signals a special sequence (can also be used to escape special chars)  \n",
    "'.' Any char (except newline char)   \n",
    "'^' Starts with '^hello'   \n",
    "'$' Ends with 'world$'     \n",
    "'*' Zero or more occurences   \n",
    "'+' One or more occurences   \n",
    "'{}' Exactly the specified number of occurences   \n",
    "'|' Either or 'falls|stays'   \n",
    "'()' Capture and group \n",
    "'''"
   ]
  },
  {
   "cell_type": "code",
   "execution_count": 74,
   "metadata": {},
   "outputs": [
    {
     "data": {
      "text/html": [
       "<div>\n",
       "<style scoped>\n",
       "    .dataframe tbody tr th:only-of-type {\n",
       "        vertical-align: middle;\n",
       "    }\n",
       "\n",
       "    .dataframe tbody tr th {\n",
       "        vertical-align: top;\n",
       "    }\n",
       "\n",
       "    .dataframe thead th {\n",
       "        text-align: right;\n",
       "    }\n",
       "</style>\n",
       "<table border=\"1\" class=\"dataframe\">\n",
       "  <thead>\n",
       "    <tr style=\"text-align: right;\">\n",
       "      <th></th>\n",
       "      <th>0</th>\n",
       "      <th>1</th>\n",
       "    </tr>\n",
       "  </thead>\n",
       "  <tbody>\n",
       "    <tr>\n",
       "      <th>0</th>\n",
       "      <td>40</td>\n",
       "      <td>100</td>\n",
       "    </tr>\n",
       "    <tr>\n",
       "      <th>1</th>\n",
       "      <td>8.3</td>\n",
       "      <td>100</td>\n",
       "    </tr>\n",
       "    <tr>\n",
       "      <th>2</th>\n",
       "      <td>0</td>\n",
       "      <td>100</td>\n",
       "    </tr>\n",
       "    <tr>\n",
       "      <th>3</th>\n",
       "      <td>7.5</td>\n",
       "      <td>100</td>\n",
       "    </tr>\n",
       "  </tbody>\n",
       "</table>\n",
       "</div>"
      ],
      "text/plain": [
       "     0    1\n",
       "0   40  100\n",
       "1  8.3  100\n",
       "2    0  100\n",
       "3  7.5  100"
      ]
     },
     "execution_count": 74,
     "metadata": {},
     "output_type": "execute_result"
    }
   ],
   "source": [
    "s=pd.Series(['40 l/100 km (comb)','8.3 kg/100 km', '0 l/100 km', '7.5 l/100 km'])\n",
    "result=s.str.extract('(^\\d*.\\d*) \\w*/(\\d*)')\n",
    "result"
   ]
  },
  {
   "cell_type": "code",
   "execution_count": 100,
   "metadata": {},
   "outputs": [
    {
     "name": "stdout",
     "output_type": "stream",
     "text": [
      "    0     1\n",
      "0  06  2020\n",
      "1  11  2020\n",
      "2  11  2020\n",
      "    0    1\n",
      "0  06  020\n",
      "1  11  020\n",
      "2  11  020\n",
      "    0     1\n",
      "0  06  2020\n",
      "1  11  2020\n",
      "2  11  2020\n",
      "    0     1    2\n",
      "0  06  2020  4.9\n",
      "1  11  2020  5.3\n",
      "2  11  2020  106\n"
     ]
    }
   ],
   "source": [
    "s=pd.Series(['06/2020\\n\\n4.9 l/100 km (comb)', '11/2020\\n\\n5.3 l/100 km (comb)', '11/2020\\n\\n106 g CO2/km (comb)'])\n",
    "# result=s.str.extract('(\\d\\d).(\\d\\d\\d\\d)')\n",
    "# result=s.str.extract('(\\d\\d)/(\\d\\d\\d\\d)') # Bu da olur burada\n",
    "result=s.str.extract('(\\d{2}).(\\d{4})') #Exactly the specified number of occurences --> {}\n",
    "# result=s.str.extract('(\\d{1,2}).(\\d{4})') #Bir veya iki rakam gelirse anlaminda iki deger girebilirdik --> {}\n",
    "\n",
    "result1=s.str.extract('(\\d*)..(\\d*)')#Ilk grup sayiyla baslasin, kac sayi oldugu onemli degil,\n",
    "#onu ilk grup olarak dondur, sonrasinda ne gelirse gelsin (.), \n",
    "#sonrasinda yine ne kadar rakam gelirse gelsin \n",
    "result2=s.str.extract('(\\d\\d)/(\\d\\d\\d\\d)')#burada / onune \\ escape sequence e gerek yok, cunku / special char degil.\n",
    "# \\n\\nden sonraki kismi da almaya calisirsak asagideki gibi:\n",
    "result3=s.str.extract('(\\d{2})/(\\d{4})\\s*(\\d{3}|\\d.\\d)')\n",
    "print(result)\n",
    "print(result1)\n",
    "print(result2)\n",
    "print(result3)"
   ]
  },
  {
   "cell_type": "code",
   "execution_count": null,
   "metadata": {},
   "outputs": [],
   "source": []
  }
 ],
 "metadata": {
  "kernelspec": {
   "display_name": "Python 3",
   "language": "python",
   "name": "python3"
  },
  "language_info": {
   "codemirror_mode": {
    "name": "ipython",
    "version": 3
   },
   "file_extension": ".py",
   "mimetype": "text/x-python",
   "name": "python",
   "nbconvert_exporter": "python",
   "pygments_lexer": "ipython3",
   "version": "3.7.6"
  }
 },
 "nbformat": 4,
 "nbformat_minor": 2
}
