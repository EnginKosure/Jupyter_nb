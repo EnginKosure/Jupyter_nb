{
 "cells": [
  {
   "cell_type": "markdown",
   "metadata": {},
   "source": [
    "%%markdown\n",
    "# REGEX\n",
    "## Expressions\n",
    "\n",
    "**\\d** Any numeric digit from 0 to 9 <br>\n",
    "**\\D** Matches any char which is not a decimal digit. _This is the opposite of \\d_  \n",
    "**\\w** Any letter, numeric digit or the underscore char (Think of this as matching 'word' chars)   \n",
    "**\\W** Any char that is not a letter, numeric digit or underscore char (opposite of \\w)   \n",
    "**\\s** Any space, tab or newline char (Think of this as matching white-space chars)   \n",
    "**\\S** Any char that is not a space, tab or newline (opposite of \\s) \n",
    "> Text that will be indented when the Markdown is rendered."
   ]
  },
  {
   "cell_type": "markdown",
   "metadata": {},
   "source": [
    "`sfs`"
   ]
  },
  {
   "cell_type": "markdown",
   "metadata": {},
   "source": [
    "**sfsfvgf**"
   ]
  },
  {
   "cell_type": "markdown",
   "metadata": {},
   "source": []
  },
  {
   "cell_type": "code",
   "execution_count": 11,
   "metadata": {},
   "outputs": [],
   "source": [
    "import pandas as pd \n",
    "import re\n"
   ]
  },
  {
   "cell_type": "code",
   "execution_count": 22,
   "metadata": {},
   "outputs": [],
   "source": [
    "text=re.search('\\d','gvredgvfsdfegr46')"
   ]
  },
  {
   "cell_type": "code",
   "execution_count": 23,
   "metadata": {},
   "outputs": [
    {
     "data": {
      "text/plain": [
       "'4'"
      ]
     },
     "execution_count": 23,
     "metadata": {},
     "output_type": "execute_result"
    }
   ],
   "source": [
    "text.group()"
   ]
  },
  {
   "cell_type": "code",
   "execution_count": 24,
   "metadata": {},
   "outputs": [
    {
     "name": "stdout",
     "output_type": "stream",
     "text": [
      "a\n"
     ]
    }
   ],
   "source": [
    "text=re.search('\\D','22a')\n",
    "print(text.group())"
   ]
  },
  {
   "cell_type": "code",
   "execution_count": null,
   "metadata": {},
   "outputs": [],
   "source": [
    "text='my phone number is 550-494-4234-4234'\n",
    "output=re.search('(\\d\\d\\d)-(\\d\\d\\d)-(\\d\\d\\d\\d)-', text)"
   ]
  }
 ],
 "metadata": {
  "kernelspec": {
   "display_name": "Python 3",
   "language": "python",
   "name": "python3"
  },
  "language_info": {
   "codemirror_mode": {
    "name": "ipython",
    "version": 3
   },
   "file_extension": ".py",
   "mimetype": "text/x-python",
   "name": "python",
   "nbconvert_exporter": "python",
   "pygments_lexer": "ipython3",
   "version": "3.7.6"
  }
 },
 "nbformat": 4,
 "nbformat_minor": 2
}
