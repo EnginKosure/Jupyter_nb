{
 "metadata": {
  "language_info": {
   "codemirror_mode": {
    "name": "ipython",
    "version": 3
   },
   "file_extension": ".py",
   "mimetype": "text/x-python",
   "name": "python",
   "nbconvert_exporter": "python",
   "pygments_lexer": "ipython3",
   "version": 3
  },
  "orig_nbformat": 2,
  "kernelspec": {
   "name": "python_defaultSpec_1597468694108",
   "display_name": "Python 3.7.6 64-bit ('base': conda)"
  }
 },
 "nbformat": 4,
 "nbformat_minor": 2,
 "cells": [
  {
   "cell_type": "code",
   "execution_count": 22,
   "metadata": {
    "tags": []
   },
   "outputs": [
    {
     "output_type": "stream",
     "name": "stderr",
     "text": "[nltk_data] Downloading package punkt to\n[nltk_data]     /Users/enginkosure/nltk_data...\n[nltk_data]   Package punkt is already up-to-date!\n[nltk_data] Downloading package stopwords to\n[nltk_data]     /Users/enginkosure/nltk_data...\n[nltk_data]   Package stopwords is already up-to-date!\n"
    }
   ],
   "source": [
    "import bs4\n",
    "import urllib3\n",
    "import re\n",
    "#!pip3 install nltk\n",
    "import nltk\n",
    "nltk.download('punkt')\n",
    "nltk.download('stopwords')\n",
    "from nltk import sent_tokenize\n",
    "from nltk.corpus import stopwords\n",
    "from nltk import word_tokenize\n",
    "stop_word = stopwords.words('english')\n",
    "import string"
   ]
  },
  {
   "cell_type": "code",
   "execution_count": 23,
   "metadata": {},
   "outputs": [],
   "source": [
    "url_name = input(\"Enter url of the text you want to summerize:\")"
   ]
  },
  {
   "cell_type": "code",
   "execution_count": 12,
   "metadata": {},
   "outputs": [
    {
     "output_type": "execute_result",
     "data": {
      "text/plain": "' Tim Sweeney,  chief executive of the company behind the popular videogame “Fortnite,” is now spearheading a battle that app developers have waged for years against two of the world’s biggest technology companies.And he is uniquely positioned to lead that fight against  Apple  Inc. and  Alphabet  Inc.’s Google. Mr. Sweeney and his company Epic Games Inc. have deep pockets. He is worth more than $8.5 billion, according to Bloomberg’s Billionaires Index, and his company is valued at $17.3 billion, landing investments from companies including  Walt Disney Co.,  Tencent Holdings Ltd.  and  Sony  Corp.Unlike others who have challenged Apple and Google, Epic is closely held, meaning it faces less pressure from shareholders. And “Fortnite” boasts a massive and loyal user base—with more than 350 million registered users world-wide—that has been nudged to show their dismay about the situation on social media.“Tim is altruistic and wants this to be a fight for the little guy,” said Mike Salmon,  an executive at Magid Consulting, a videogame advisory firm in Los Angeles. He thinks Mr. Sweeney and Epic are going down this path now because of the stiff antitrust scrutiny Apple and Google are facing and because Epic is looking to build out its own digital game store beyond the strictly computer games it sells now. “Epic is making a retail play,” he said.Apple and Google pulled “Fortnite” from their app stores Thursday after Mr. Sweeney’s Epic rolled out a new way of making in-game purchases that circumvents the 30% cut the tech giants take from digital transactions within apps—a percentage established in Apple’s case more than a decade ago and some developers have called to reduce for years.WSJ MembershipCustomer ServiceTools & FeaturesAdsMoreDow Jones Products'"
     },
     "metadata": {},
     "execution_count": 12
    }
   ],
   "source": [
    "http = urllib3.PoolManager()\n",
    "response = http.request('GET', url_name)\n",
    "\n",
    "page = bs4.BeautifulSoup(response.data)\n",
    "elements = page.find_all('p')\n",
    "article = ''\n",
    "for i in elements:\n",
    "    article+= (i.text)\n",
    "article"
   ]
  },
  {
   "cell_type": "code",
   "execution_count": 13,
   "metadata": {},
   "outputs": [
    {
     "output_type": "execute_result",
     "data": {
      "text/plain": "' Tim Sweeney  chief executive of the company behind the popular videogame “Fortnite” is now spearheading a battle that app developers have waged for years against two of the world’s biggest technology companies.And he is uniquely positioned to lead that fight against  Apple  Inc. and  Alphabet  Inc.’s Google. Mr. Sweeney and his company Epic Games Inc. have deep pockets. He is worth more than $8.5 billion according to Bloomberg’s Billionaires Index and his company is valued at $17.3 billion landing investments from companies including  Walt Disney Co.  Tencent Holdings Ltd.  and  Sony  Corp.Unlike others who have challenged Apple and Google Epic is closely held meaning it faces less pressure from shareholders. And “Fortnite” boasts a massive and loyal user base—with more than 350 million registered users world-wide—that has been nudged to show their dismay about the situation on social media.“Tim is altruistic and wants this to be a fight for the little guy” said Mike Salmon  an executive at Magid Consulting a videogame advisory firm in Los Angeles. He thinks Mr. Sweeney and Epic are going down this path now because of the stiff antitrust scrutiny Apple and Google are facing and because Epic is looking to build out its own digital game store beyond the strictly computer games it sells now. “Epic is making a retail play” he said.Apple and Google pulled “Fortnite” from their app stores Thursday after Mr. Sweeney’s Epic rolled out a new way of making in-game purchases that circumvents the 30% cut the tech giants take from digital transactions within apps—a percentage established in Apple’s case more than a decade ago and some developers have called to reduce for years.WSJ MembershipCustomer ServiceTools & FeaturesAdsMoreDow Jones Products'"
     },
     "metadata": {},
     "execution_count": 13
    }
   ],
   "source": [
    "processed = article.replace(r'^\\s+|\\s+?$','')\n",
    "processed = processed.replace('\\n',' ')\n",
    "processed = processed.replace(\"\\\\\",'')\n",
    "processed = processed.replace(\",\",'')\n",
    "processed = processed.replace('\"','')\n",
    "processed = re.sub(r'\\[[0-9]*\\]','',processed)\n",
    "processed"
   ]
  },
  {
   "cell_type": "code",
   "execution_count": 14,
   "metadata": {},
   "outputs": [],
   "source": [
    "sentences = sent_tokenize(processed)"
   ]
  },
  {
   "cell_type": "code",
   "execution_count": 15,
   "metadata": {},
   "outputs": [
    {
     "output_type": "execute_result",
     "data": {
      "text/plain": "{'tim': 2,\n 'sweeney': 4,\n 'chief': 1,\n 'executive': 2,\n 'company': 3,\n 'behind': 1,\n 'popular': 1,\n 'videogame': 2,\n '“': 5,\n 'fortnite': 3,\n '”': 5,\n 'spearheading': 1,\n 'battle': 1,\n 'app': 2,\n 'developers': 2,\n 'waged': 1,\n 'years': 1,\n 'two': 1,\n 'world': 1,\n '’': 5,\n 'biggest': 1,\n 'technology': 1,\n 'companies.and': 1,\n 'uniquely': 1,\n 'positioned': 1,\n 'lead': 1,\n 'fight': 2,\n 'apple': 4,\n 'inc.': 3,\n 'alphabet': 1,\n 'google': 4,\n 'mr.': 3,\n 'epic': 6,\n 'games': 2,\n 'deep': 1,\n 'pockets': 1,\n 'worth': 1,\n '8.5': 1,\n 'billion': 2,\n 'according': 1,\n 'bloomberg': 1,\n 'billionaires': 1,\n 'index': 1,\n 'valued': 1,\n '17.3': 1,\n 'landing': 1,\n 'investments': 1,\n 'companies': 1,\n 'including': 1,\n 'walt': 1,\n 'disney': 1,\n 'co.': 1,\n 'tencent': 1,\n 'holdings': 1,\n 'ltd.': 1,\n 'sony': 1,\n 'corp.unlike': 1,\n 'others': 1,\n 'challenged': 1,\n 'closely': 1,\n 'held': 1,\n 'meaning': 1,\n 'faces': 1,\n 'less': 1,\n 'pressure': 1,\n 'shareholders': 1,\n 'boasts': 1,\n 'massive': 1,\n 'loyal': 1,\n 'user': 1,\n 'base—with': 1,\n '350': 1,\n 'million': 1,\n 'registered': 1,\n 'users': 1,\n 'world-wide—that': 1,\n 'nudged': 1,\n 'show': 1,\n 'dismay': 1,\n 'situation': 1,\n 'social': 1,\n 'media.': 1,\n 'altruistic': 1,\n 'wants': 1,\n 'little': 1,\n 'guy': 1,\n 'said': 1,\n 'mike': 1,\n 'salmon': 1,\n 'magid': 1,\n 'consulting': 1,\n 'advisory': 1,\n 'firm': 1,\n 'los': 1,\n 'angeles': 1,\n 'thinks': 1,\n 'going': 1,\n 'path': 1,\n 'stiff': 1,\n 'antitrust': 1,\n 'scrutiny': 1,\n 'facing': 1,\n 'looking': 1,\n 'build': 1,\n 'digital': 2,\n 'game': 1,\n 'store': 1,\n 'beyond': 1,\n 'strictly': 1,\n 'computer': 1,\n 'sells': 1,\n 'making': 2,\n 'retail': 1,\n 'play': 1,\n 'said.apple': 1,\n 'pulled': 1,\n 'stores': 1,\n 'thursday': 1,\n 'rolled': 1,\n 'new': 1,\n 'way': 1,\n 'in-game': 1,\n 'purchases': 1,\n 'circumvents': 1,\n '30': 1,\n 'cut': 1,\n 'tech': 1,\n 'giants': 1,\n 'take': 1,\n 'transactions': 1,\n 'within': 1,\n 'apps—a': 1,\n 'percentage': 1,\n 'established': 1,\n 'case': 1,\n 'decade': 1,\n 'ago': 1,\n 'called': 1,\n 'reduce': 1,\n 'years.wsj': 1,\n 'membershipcustomer': 1,\n 'servicetools': 1,\n 'featuresadsmoredow': 1,\n 'jones': 1,\n 'products': 1}"
     },
     "metadata": {},
     "execution_count": 15
    }
   ],
   "source": [
    "frequency = {}\n",
    "processed1 = processed.lower()\n",
    "for word in word_tokenize(processed1):\n",
    "    if word not in stop_word and word not in string.punctuation:\n",
    "        if word not in frequency.keys():\n",
    "            frequency[word]=1\n",
    "        else:\n",
    "            frequency[word]+=1\n",
    "frequency"
   ]
  },
  {
   "cell_type": "code",
   "execution_count": 16,
   "metadata": {},
   "outputs": [
    {
     "output_type": "execute_result",
     "data": {
      "text/plain": "{'tim': 0.3333333333333333,\n 'sweeney': 0.6666666666666666,\n 'chief': 0.16666666666666666,\n 'executive': 0.3333333333333333,\n 'company': 0.5,\n 'behind': 0.16666666666666666,\n 'popular': 0.16666666666666666,\n 'videogame': 0.3333333333333333,\n '“': 0.8333333333333334,\n 'fortnite': 0.5,\n '”': 0.8333333333333334,\n 'spearheading': 0.16666666666666666,\n 'battle': 0.16666666666666666,\n 'app': 0.3333333333333333,\n 'developers': 0.3333333333333333,\n 'waged': 0.16666666666666666,\n 'years': 0.16666666666666666,\n 'two': 0.16666666666666666,\n 'world': 0.16666666666666666,\n '’': 0.8333333333333334,\n 'biggest': 0.16666666666666666,\n 'technology': 0.16666666666666666,\n 'companies.and': 0.16666666666666666,\n 'uniquely': 0.16666666666666666,\n 'positioned': 0.16666666666666666,\n 'lead': 0.16666666666666666,\n 'fight': 0.3333333333333333,\n 'apple': 0.6666666666666666,\n 'inc.': 0.5,\n 'alphabet': 0.16666666666666666,\n 'google': 0.6666666666666666,\n 'mr.': 0.5,\n 'epic': 1.0,\n 'games': 0.3333333333333333,\n 'deep': 0.16666666666666666,\n 'pockets': 0.16666666666666666,\n 'worth': 0.16666666666666666,\n '8.5': 0.16666666666666666,\n 'billion': 0.3333333333333333,\n 'according': 0.16666666666666666,\n 'bloomberg': 0.16666666666666666,\n 'billionaires': 0.16666666666666666,\n 'index': 0.16666666666666666,\n 'valued': 0.16666666666666666,\n '17.3': 0.16666666666666666,\n 'landing': 0.16666666666666666,\n 'investments': 0.16666666666666666,\n 'companies': 0.16666666666666666,\n 'including': 0.16666666666666666,\n 'walt': 0.16666666666666666,\n 'disney': 0.16666666666666666,\n 'co.': 0.16666666666666666,\n 'tencent': 0.16666666666666666,\n 'holdings': 0.16666666666666666,\n 'ltd.': 0.16666666666666666,\n 'sony': 0.16666666666666666,\n 'corp.unlike': 0.16666666666666666,\n 'others': 0.16666666666666666,\n 'challenged': 0.16666666666666666,\n 'closely': 0.16666666666666666,\n 'held': 0.16666666666666666,\n 'meaning': 0.16666666666666666,\n 'faces': 0.16666666666666666,\n 'less': 0.16666666666666666,\n 'pressure': 0.16666666666666666,\n 'shareholders': 0.16666666666666666,\n 'boasts': 0.16666666666666666,\n 'massive': 0.16666666666666666,\n 'loyal': 0.16666666666666666,\n 'user': 0.16666666666666666,\n 'base—with': 0.16666666666666666,\n '350': 0.16666666666666666,\n 'million': 0.16666666666666666,\n 'registered': 0.16666666666666666,\n 'users': 0.16666666666666666,\n 'world-wide—that': 0.16666666666666666,\n 'nudged': 0.16666666666666666,\n 'show': 0.16666666666666666,\n 'dismay': 0.16666666666666666,\n 'situation': 0.16666666666666666,\n 'social': 0.16666666666666666,\n 'media.': 0.16666666666666666,\n 'altruistic': 0.16666666666666666,\n 'wants': 0.16666666666666666,\n 'little': 0.16666666666666666,\n 'guy': 0.16666666666666666,\n 'said': 0.16666666666666666,\n 'mike': 0.16666666666666666,\n 'salmon': 0.16666666666666666,\n 'magid': 0.16666666666666666,\n 'consulting': 0.16666666666666666,\n 'advisory': 0.16666666666666666,\n 'firm': 0.16666666666666666,\n 'los': 0.16666666666666666,\n 'angeles': 0.16666666666666666,\n 'thinks': 0.16666666666666666,\n 'going': 0.16666666666666666,\n 'path': 0.16666666666666666,\n 'stiff': 0.16666666666666666,\n 'antitrust': 0.16666666666666666,\n 'scrutiny': 0.16666666666666666,\n 'facing': 0.16666666666666666,\n 'looking': 0.16666666666666666,\n 'build': 0.16666666666666666,\n 'digital': 0.3333333333333333,\n 'game': 0.16666666666666666,\n 'store': 0.16666666666666666,\n 'beyond': 0.16666666666666666,\n 'strictly': 0.16666666666666666,\n 'computer': 0.16666666666666666,\n 'sells': 0.16666666666666666,\n 'making': 0.3333333333333333,\n 'retail': 0.16666666666666666,\n 'play': 0.16666666666666666,\n 'said.apple': 0.16666666666666666,\n 'pulled': 0.16666666666666666,\n 'stores': 0.16666666666666666,\n 'thursday': 0.16666666666666666,\n 'rolled': 0.16666666666666666,\n 'new': 0.16666666666666666,\n 'way': 0.16666666666666666,\n 'in-game': 0.16666666666666666,\n 'purchases': 0.16666666666666666,\n 'circumvents': 0.16666666666666666,\n '30': 0.16666666666666666,\n 'cut': 0.16666666666666666,\n 'tech': 0.16666666666666666,\n 'giants': 0.16666666666666666,\n 'take': 0.16666666666666666,\n 'transactions': 0.16666666666666666,\n 'within': 0.16666666666666666,\n 'apps—a': 0.16666666666666666,\n 'percentage': 0.16666666666666666,\n 'established': 0.16666666666666666,\n 'case': 0.16666666666666666,\n 'decade': 0.16666666666666666,\n 'ago': 0.16666666666666666,\n 'called': 0.16666666666666666,\n 'reduce': 0.16666666666666666,\n 'years.wsj': 0.16666666666666666,\n 'membershipcustomer': 0.16666666666666666,\n 'servicetools': 0.16666666666666666,\n 'featuresadsmoredow': 0.16666666666666666,\n 'jones': 0.16666666666666666,\n 'products': 0.16666666666666666}"
     },
     "metadata": {},
     "execution_count": 16
    }
   ],
   "source": [
    "max_fre = max(frequency.values())\n",
    "for word in frequency.keys():\n",
    "    frequency[word]=(frequency[word]/max_fre)\n",
    "frequency"
   ]
  },
  {
   "cell_type": "code",
   "execution_count": 17,
   "metadata": {},
   "outputs": [
    {
     "output_type": "execute_result",
     "data": {
      "text/plain": "{'Mr. Sweeney and his company Epic Games Inc. have deep pockets.': 0.8333333333333333}"
     },
     "metadata": {},
     "execution_count": 17
    }
   ],
   "source": [
    "sentence_score = {}\n",
    "for sent in sentences:\n",
    "    for word in word_tokenize(sent):\n",
    "        if word in frequency.keys():\n",
    "            if len(sent.split(' '))<30:\n",
    "                if sent not in sentence_score.keys():\n",
    "                    sentence_score[sent] = frequency[word]\n",
    "                else:\n",
    "                    sentence_score[sent]+=frequency[word]\n",
    "sentence_score"
   ]
  },
  {
   "cell_type": "code",
   "execution_count": 18,
   "metadata": {},
   "outputs": [
    {
     "output_type": "execute_result",
     "data": {
      "text/plain": "'SUMMARY:- \\n  Mr. Sweeney and his company Epic Games Inc. have deep pockets.'"
     },
     "metadata": {},
     "execution_count": 18
    }
   ],
   "source": [
    "import heapq\n",
    "summary = heapq.nlargest(4,sentence_score,key = sentence_score.get)\n",
    "summary = ' '.join(summary)\n",
    "final = \"SUMMARY:- \\n  \" +summary\n",
    "textfinal = 'TEXT:-    '+processed\n",
    "textfinal = textfinal.encode('ascii','ignore')\n",
    "textfinal = str(textfinal) \n",
    "final"
   ]
  },
  {
   "cell_type": "code",
   "execution_count": null,
   "metadata": {},
   "outputs": [],
   "source": []
  }
 ]
}