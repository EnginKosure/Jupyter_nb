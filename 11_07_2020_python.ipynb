{
 "cells": [
  {
   "cell_type": "markdown",
   "metadata": {},
   "source": [
    "# any() ve all() ne anlama gelir"
   ]
  },
  {
   "cell_type": "code",
   "execution_count": 6,
   "metadata": {
    "tags": []
   },
   "outputs": [
    {
     "output_type": "stream",
     "name": "stdout",
     "text": "False\nTrue\nFalse\n"
    }
   ],
   "source": [
    "names = ['ali', 'veli', 'mehmet', False]\n",
    "empty = {}\n",
    "print(all(names), all(empty), any(empty), sep=\"\\n\")"
   ]
  },
  {
   "cell_type": "markdown",
   "metadata": {},
   "source": [
    "# Filter() fonksiyonu None olanlari filtreledi suzdu onlari yazdirmadi"
   ]
  },
  {
   "cell_type": "code",
   "execution_count": 7,
   "metadata": {
    "tags": []
   },
   "outputs": [
    {
     "output_type": "stream",
     "name": "stdout",
     "text": "Filtered list is: \nsusan\ntom\n0\n"
    }
   ],
   "source": [
    "listA = ['susan', 'tom', False, 0 , '0']\n",
    "filtered_list = filter(None, listA)\n",
    "print('Filtered list is: ')\n",
    "for i in filtered_list:\n",
    "    print(i)"
   ]
  },
  {
   "cell_type": "markdown",
   "metadata": {},
   "source": [
    "# enumerate() fonksiyonu index numarasi veriyor"
   ]
  },
  {
   "cell_type": "code",
   "execution_count": 8,
   "metadata": {},
   "outputs": [
    {
     "output_type": "execute_result",
     "data": {
      "text/plain": "<enumerate at 0x7fd16707bcd0>"
     },
     "metadata": {},
     "execution_count": 8
    }
   ],
   "source": [
    "grocery = ['bread', 'water', 'olive']\n",
    "enumerate(grocery)"
   ]
  },
  {
   "cell_type": "code",
   "execution_count": 9,
   "metadata": {
    "tags": []
   },
   "outputs": [
    {
     "output_type": "stream",
     "name": "stdout",
     "text": "[(0, 'bread'), (1, 'water'), (2, 'olive')]\n"
    }
   ],
   "source": [
    "degisken = list(enumerate(grocery))\n",
    "print(degisken)"
   ]
  },
  {
   "cell_type": "code",
   "execution_count": 10,
   "metadata": {
    "tags": []
   },
   "outputs": [
    {
     "output_type": "stream",
     "name": "stdout",
     "text": "(0, 'bread')\n(1, 'water')\n(2, 'olive')\n"
    }
   ],
   "source": [
    "for i in degisken:\n",
    "    print(i)"
   ]
  },
  {
   "cell_type": "code",
   "execution_count": 11,
   "metadata": {
    "tags": []
   },
   "outputs": [
    {
     "output_type": "stream",
     "name": "stdout",
     "text": "{0: 'bread', 1: 'water', 2: 'olive'}\n0\n1\n2\n"
    }
   ],
   "source": [
    "grocery = ['bread', 'water', 'olive']\n",
    "enumerate(grocery)\n",
    "degisken = dict(enumerate(grocery))\n",
    "print(degisken)\n",
    "for i in degisken:\n",
    "    print(i)\n"
   ]
  },
  {
   "cell_type": "markdown",
   "metadata": {},
   "source": [
    "# round() fonksiyonu deneme"
   ]
  },
  {
   "cell_type": "code",
   "execution_count": 12,
   "metadata": {
    "tags": []
   },
   "outputs": [
    {
     "output_type": "stream",
     "name": "stdout",
     "text": "3.66\n3.66\n3.66\n3.66\n3.66\n3.67\n3.67\n3.67\n3.67\n3.67\n3.67\n"
    }
   ],
   "source": [
    "print(round(3.660, 2))\n",
    "print(round(3.661, 2))\n",
    "print(round(3.662, 2))\n",
    "print(round(3.663, 2))\n",
    "print(round(3.664, 2))\n",
    "print(round(3.675, 2))\n",
    "print(round(3.666, 2))\n",
    "print(round(3.667, 2))\n",
    "print(round(3.668, 2))\n",
    "print(round(3.669, 2))\n",
    "print(round(3.670, 2))\n"
   ]
  },
  {
   "cell_type": "code",
   "execution_count": 13,
   "metadata": {
    "tags": []
   },
   "outputs": [
    {
     "output_type": "stream",
     "name": "stdout",
     "text": "3.67\n3.67\n3.67\n3.67\n3.67\n3.67\n3.68\n3.68\n3.68\n3.68\n3.68\n"
    }
   ],
   "source": [
    "print(round(3.670, 2))\n",
    "print(round(3.671, 2))\n",
    "print(round(3.672, 2))\n",
    "print(round(3.673, 2))\n",
    "print(round(3.674, 2))\n",
    "print(round(3.675, 2))\n",
    "print(round(3.676, 2))\n",
    "print(round(3.677, 2))\n",
    "print(round(3.678, 2))\n",
    "print(round(3.679, 2))\n",
    "print(round(3.680, 2))"
   ]
  },
  {
   "cell_type": "markdown",
   "metadata": {},
   "source": [
    "# FUNCTIONS"
   ]
  },
  {
   "cell_type": "code",
   "execution_count": 14,
   "metadata": {},
   "outputs": [],
   "source": [
    "def kare(a,b):\n",
    "    print(a ** b)"
   ]
  },
  {
   "cell_type": "code",
   "execution_count": 15,
   "metadata": {
    "tags": []
   },
   "outputs": [
    {
     "output_type": "stream",
     "name": "stdout",
     "text": "243\n"
    }
   ],
   "source": [
    "kare(3,5)"
   ]
  },
  {
   "cell_type": "markdown",
   "metadata": {},
   "source": [
    "# DENEME HIPOTENUS FUNCTION"
   ]
  },
  {
   "cell_type": "code",
   "execution_count": 16,
   "metadata": {},
   "outputs": [],
   "source": [
    "def hipotenus(c,d):\n",
    "    print((c ** 2 + d ** 2) ** 0.5)"
   ]
  },
  {
   "cell_type": "code",
   "execution_count": 17,
   "metadata": {
    "tags": []
   },
   "outputs": [
    {
     "output_type": "stream",
     "name": "stdout",
     "text": "5.0\n"
    }
   ],
   "source": [
    "hipotenus(3,4)"
   ]
  },
  {
   "cell_type": "code",
   "execution_count": 18,
   "metadata": {
    "tags": []
   },
   "outputs": [
    {
     "output_type": "stream",
     "name": "stdout",
     "text": "15.0\n"
    }
   ],
   "source": [
    "hipotenus(9,12)"
   ]
  },
  {
   "cell_type": "markdown",
   "metadata": {},
   "source": [
    "# TASK PEARDECK SUM"
   ]
  },
  {
   "cell_type": "code",
   "execution_count": 19,
   "metadata": {},
   "outputs": [],
   "source": [
    "def topla(a,b):\n",
    "    print(a + b)\n",
    "    "
   ]
  },
  {
   "cell_type": "code",
   "execution_count": 20,
   "metadata": {
    "tags": []
   },
   "outputs": [
    {
     "output_type": "stream",
     "name": "stdout",
     "text": "801\n"
    }
   ],
   "source": [
    "topla(123, 678)"
   ]
  },
  {
   "cell_type": "markdown",
   "metadata": {},
   "source": [
    "# TASK PEARDECK CALCULATOR"
   ]
  },
  {
   "cell_type": "code",
   "execution_count": 21,
   "metadata": {
    "tags": []
   },
   "outputs": [
    {
     "output_type": "stream",
     "name": "stdout",
     "text": "7\n-1\n12\n0.75\n"
    }
   ],
   "source": [
    "def calculator(a, b, c):\n",
    "    if c == \"+\":\n",
    "        print(a + b)\n",
    "    elif c == \"-\":\n",
    "        print(a - b)\n",
    "    elif c == \"*\":\n",
    "        print(a * b)\n",
    "    elif c == \"/\":\n",
    "        print(a / b)\n",
    "    \n",
    "calculator(3,4,'+')\n",
    "calculator(3,4,'-')\n",
    "calculator(3,4,'*')\n",
    "calculator(3,4,'/')"
   ]
  },
  {
   "cell_type": "markdown",
   "metadata": {},
   "source": [
    "# print kullanmadan return ile de cikti alabiliriz"
   ]
  },
  {
   "cell_type": "code",
   "execution_count": 22,
   "metadata": {},
   "outputs": [],
   "source": [
    "def karisik(a,b):\n",
    "    x = a * b\n",
    "    y = a + b\n",
    "    z = a * b\n",
    "    return y"
   ]
  },
  {
   "cell_type": "code",
   "execution_count": 23,
   "metadata": {
    "tags": []
   },
   "outputs": [
    {
     "output_type": "stream",
     "name": "stdout",
     "text": "12\n"
    }
   ],
   "source": [
    "print(karisik(8,4))"
   ]
  },
  {
   "cell_type": "markdown",
   "metadata": {},
   "source": [
    "# return ile print in farkini anlamak icin bak"
   ]
  },
  {
   "cell_type": "code",
   "execution_count": 24,
   "metadata": {},
   "outputs": [],
   "source": [
    "def multiply(a,b):\n",
    "    return(a * b)"
   ]
  },
  {
   "cell_type": "code",
   "execution_count": 25,
   "metadata": {},
   "outputs": [
    {
     "output_type": "execute_result",
     "data": {
      "text/plain": "50"
     },
     "metadata": {},
     "execution_count": 25
    }
   ],
   "source": [
    "multiply(10,5)"
   ]
  },
  {
   "cell_type": "code",
   "execution_count": 26,
   "metadata": {
    "tags": []
   },
   "outputs": [
    {
     "output_type": "stream",
     "name": "stdout",
     "text": "<class 'function'>\n"
    }
   ],
   "source": [
    "print(type(multiply))"
   ]
  },
  {
   "cell_type": "code",
   "execution_count": 27,
   "metadata": {
    "tags": []
   },
   "outputs": [
    {
     "output_type": "stream",
     "name": "stdout",
     "text": "<class 'int'>\n"
    }
   ],
   "source": [
    "print(type(multiply(10,5)))"
   ]
  },
  {
   "cell_type": "code",
   "execution_count": 28,
   "metadata": {},
   "outputs": [],
   "source": [
    "def carpim(a,b):\n",
    "    print(a * b)"
   ]
  },
  {
   "cell_type": "code",
   "execution_count": 29,
   "metadata": {
    "tags": []
   },
   "outputs": [
    {
     "output_type": "stream",
     "name": "stdout",
     "text": "50\n<class 'NoneType'>\n"
    }
   ],
   "source": [
    "print(type(carpim(10,5)))"
   ]
  },
  {
   "cell_type": "markdown",
   "metadata": {},
   "source": [
    "# return sayesinde fonksiyonu baska bir fonksiyona "
   ]
  },
  {
   "cell_type": "code",
   "execution_count": null,
   "metadata": {},
   "outputs": [],
   "source": []
  },
  {
   "cell_type": "code",
   "execution_count": null,
   "metadata": {},
   "outputs": [],
   "source": []
  },
  {
   "cell_type": "code",
   "execution_count": 30,
   "metadata": {},
   "outputs": [
    {
     "output_type": "execute_result",
     "data": {
      "text/plain": "7"
     },
     "metadata": {},
     "execution_count": 30
    }
   ],
   "source": [
    "def calculator(a, b, c):\n",
    "    if c == \"+\":\n",
    "        return(a + b)\n",
    "    elif c == \"-\":\n",
    "        return(a - b)\n",
    "    elif c == \"*\":\n",
    "        return(a * b)\n",
    "    elif c == \"/\":\n",
    "        return(a / b)\n",
    "    \n",
    "calculator(3,4,'+')"
   ]
  },
  {
   "cell_type": "code",
   "execution_count": 31,
   "metadata": {},
   "outputs": [
    {
     "output_type": "execute_result",
     "data": {
      "text/plain": "-1"
     },
     "metadata": {},
     "execution_count": 31
    }
   ],
   "source": [
    "calculator(3,4,'-')\n"
   ]
  },
  {
   "cell_type": "code",
   "execution_count": 32,
   "metadata": {},
   "outputs": [
    {
     "output_type": "execute_result",
     "data": {
      "text/plain": "12"
     },
     "metadata": {},
     "execution_count": 32
    }
   ],
   "source": [
    "calculator(3,4,'*')\n"
   ]
  },
  {
   "cell_type": "code",
   "execution_count": 33,
   "metadata": {},
   "outputs": [
    {
     "output_type": "execute_result",
     "data": {
      "text/plain": "0.75"
     },
     "metadata": {},
     "execution_count": 33
    }
   ],
   "source": [
    "calculator(3,4,'/')"
   ]
  },
  {
   "cell_type": "markdown",
   "metadata": {},
   "source": [
    "# kosulsuz iki fonksiyon yapin icinde birden fazla return olan, deneyin sonuc ne oluyor (ilk return donecektir sadece)"
   ]
  },
  {
   "cell_type": "code",
   "execution_count": 34,
   "metadata": {},
   "outputs": [],
   "source": [
    "def carp_top(a, b):\n",
    "    return(a + b)\n",
    "    return(a * b)\n"
   ]
  },
  {
   "cell_type": "code",
   "execution_count": 35,
   "metadata": {},
   "outputs": [
    {
     "output_type": "execute_result",
     "data": {
      "text/plain": "7"
     },
     "metadata": {},
     "execution_count": 35
    }
   ],
   "source": [
    "carp_top(3,4)"
   ]
  },
  {
   "cell_type": "code",
   "execution_count": 36,
   "metadata": {},
   "outputs": [],
   "source": [
    "def hangisi(x, y):\n",
    "    return(x)\n",
    "    return(y)\n"
   ]
  },
  {
   "cell_type": "code",
   "execution_count": 37,
   "metadata": {},
   "outputs": [
    {
     "output_type": "execute_result",
     "data": {
      "text/plain": "3"
     },
     "metadata": {},
     "execution_count": 37
    }
   ],
   "source": [
    "hangisi(3,5)"
   ]
  },
  {
   "cell_type": "markdown",
   "metadata": {},
   "source": [
    "# TASK (ABSOLUTE VALUE)"
   ]
  },
  {
   "cell_type": "code",
   "execution_count": 38,
   "metadata": {},
   "outputs": [],
   "source": [
    "def absolute_value(a):  # This function returns the absolute value of the parameter\n",
    "    if a < 0:\n",
    "        return(abs(a))\n",
    "    else:\n",
    "        return(a)"
   ]
  },
  {
   "cell_type": "code",
   "execution_count": 39,
   "metadata": {},
   "outputs": [
    {
     "output_type": "execute_result",
     "data": {
      "text/plain": "52"
     },
     "metadata": {},
     "execution_count": 39
    }
   ],
   "source": [
    "absolute_value(-52)"
   ]
  },
  {
   "cell_type": "code",
   "execution_count": 40,
   "metadata": {},
   "outputs": [
    {
     "output_type": "execute_result",
     "data": {
      "text/plain": "52"
     },
     "metadata": {},
     "execution_count": 40
    }
   ],
   "source": [
    "absolute_value(52)"
   ]
  },
  {
   "cell_type": "markdown",
   "metadata": {},
   "source": [
    "# eger yukaridaki ornekte 'else' kismini eklemeseydik fonksiyon pozitiflere cevap vermezdi!!"
   ]
  },
  {
   "cell_type": "code",
   "execution_count": 41,
   "metadata": {},
   "outputs": [],
   "source": [
    "def absolute_value(a):  # This function returns the absolute value of the parameter\n",
    "    if a < 0:\n",
    "        return(abs(a))"
   ]
  },
  {
   "cell_type": "code",
   "execution_count": 42,
   "metadata": {},
   "outputs": [],
   "source": [
    "absolute_value(52)"
   ]
  },
  {
   "cell_type": "code",
   "execution_count": null,
   "metadata": {},
   "outputs": [],
   "source": []
  },
  {
   "cell_type": "markdown",
   "metadata": {},
   "source": [
    "# __doc__ yazilan docstringi gosterir"
   ]
  },
  {
   "cell_type": "code",
   "execution_count": 43,
   "metadata": {
    "tags": []
   },
   "outputs": [
    {
     "output_type": "stream",
     "name": "stdout",
     "text": "None\n"
    }
   ],
   "source": [
    "print(absolute_value.__doc__)"
   ]
  },
  {
   "cell_type": "markdown",
   "metadata": {},
   "source": [
    "# vermemesinin sebebi uc tirnak icinde yazmayisimiz yorumu. Docstringler uc tirnak icinde unutma!!"
   ]
  },
  {
   "cell_type": "code",
   "execution_count": 44,
   "metadata": {},
   "outputs": [],
   "source": [
    "def absolute_value(a):\n",
    "    \"\"\"This function returns the absolute value of the parameter\"\"\"\n",
    "    if a < 0:\n",
    "        return(abs(a))\n",
    "    else:\n",
    "        return(a)"
   ]
  },
  {
   "cell_type": "code",
   "execution_count": 45,
   "metadata": {
    "tags": []
   },
   "outputs": [
    {
     "output_type": "stream",
     "name": "stdout",
     "text": "This function returns the absolute value of the parameter\n"
    }
   ],
   "source": [
    "print(absolute_value.__doc__)"
   ]
  },
  {
   "cell_type": "code",
   "execution_count": 46,
   "metadata": {},
   "outputs": [
    {
     "output_type": "error",
     "ename": "NameError",
     "evalue": "name 'x' is not defined",
     "traceback": [
      "\u001b[0;31m---------------------------------------------------------------------------\u001b[0m",
      "\u001b[0;31mNameError\u001b[0m                                 Traceback (most recent call last)",
      "\u001b[0;32m<ipython-input-46-6fcf9dfbd479>\u001b[0m in \u001b[0;36m<module>\u001b[0;34m\u001b[0m\n\u001b[0;32m----> 1\u001b[0;31m \u001b[0mx\u001b[0m\u001b[0;34m\u001b[0m\u001b[0;34m\u001b[0m\u001b[0m\n\u001b[0m",
      "\u001b[0;31mNameError\u001b[0m: name 'x' is not defined"
     ]
    }
   ],
   "source": [
    "x=233"
   ]
  },
  {
   "cell_type": "code",
   "execution_count": null,
   "metadata": {},
   "outputs": [],
   "source": []
  }
 ],
 "metadata": {
  "kernelspec": {
   "display_name": "Python 3",
   "language": "python",
   "name": "python3"
  },
  "language_info": {
   "codemirror_mode": {
    "name": "ipython",
    "version": 3
   },
   "file_extension": ".py",
   "mimetype": "text/x-python",
   "name": "python",
   "nbconvert_exporter": "python",
   "pygments_lexer": "ipython3",
   "version": "3.7.6"
  }
 },
 "nbformat": 4,
 "nbformat_minor": 4
}