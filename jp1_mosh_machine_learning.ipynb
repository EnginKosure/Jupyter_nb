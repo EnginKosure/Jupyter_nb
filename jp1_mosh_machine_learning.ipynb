{
 "metadata": {
  "language_info": {
   "codemirror_mode": {
    "name": "ipython",
    "version": 3
   },
   "file_extension": ".py",
   "mimetype": "text/x-python",
   "name": "python",
   "nbconvert_exporter": "python",
   "pygments_lexer": "ipython3",
   "version": 3
  },
  "orig_nbformat": 2,
  "kernelspec": {
   "name": "python_defaultSpec_1597305952407",
   "display_name": "Python 3.7.6 64-bit ('anaconda3': virtualenv)"
  }
 },
 "nbformat": 4,
 "nbformat_minor": 2,
 "cells": [
  {
   "cell_type": "code",
   "execution_count": 51,
   "metadata": {},
   "outputs": [
    {
     "output_type": "execute_result",
     "data": {
      "text/plain": "array(['HipHop'], dtype=object)"
     },
     "metadata": {},
     "execution_count": 51
    }
   ],
   "source": [
    "import pandas as pd\n",
    "from sklearn.tree import DecisionTreeClassifier\n",
    "from sklearn.model_selection import train_test_split\n",
    "from sklearn.metrics import accuracy_score\n",
    "from sklearn.externals import joblib\n",
    "from sklearn import tree\n",
    "\n",
    "# df=pd.read_csv('music.csv')\n",
    "# X=df.drop(columns=['genre'])\n",
    "# y=df['genre']\n",
    "# X_train, X_test, y_train, y_test=train_test_split(X,y,test_size=0.2)\n",
    "# model=DecisionTreeClassifier()\n",
    "# model.fit(X_train,y_train)\n",
    "# predictions=model.predict(X_test)\n",
    "\n",
    "# joblib.dump(model, 'music-recommender.joblib') \n",
    "# We can comment out the lines above after one run. \n",
    "# The result of the run is stored in the same directory as['music-recommender.joblib']\n",
    "#This is our trained model\n",
    "\n",
    "# Once we trained our model, we can load it like this:\n",
    "model=joblib.load('music-recommender.joblib')\n",
    "\n",
    "predictions=model.predict([[21,1]])\n",
    "predictions\n",
    "# score=accuracy_score(y_test, predictions)\n",
    "# score"
   ]
  },
  {
   "cell_type": "code",
   "execution_count": 52,
   "metadata": {},
   "outputs": [],
   "source": [
    "tree.export_graphviz(model,out_file='music_recommender.dot', feature_names=['age', 'gender'], class_names=sorted(y.unique()), label='all',rounded=True,filled=True)          "
   ]
  },
  {
   "cell_type": "code",
   "execution_count": null,
   "metadata": {},
   "outputs": [],
   "source": []
  }
 ]
}