{
 "metadata": {
  "language_info": {
   "codemirror_mode": {
    "name": "ipython",
    "version": 3
   },
   "file_extension": ".py",
   "mimetype": "text/x-python",
   "name": "python",
   "nbconvert_exporter": "python",
   "pygments_lexer": "ipython3",
   "version": 3
  },
  "orig_nbformat": 2,
  "kernelspec": {
   "name": "python_defaultSpec_1596664584289",
   "display_name": "Python 3.7.6 64-bit ('anaconda3': virtualenv)"
  }
 },
 "nbformat": 4,
 "nbformat_minor": 2,
 "cells": [
  {
   "cell_type": "code",
   "execution_count": 1,
   "metadata": {},
   "outputs": [],
   "source": [
    "def reorder_digits(lst, direction): \n",
    "    return [int(''.join(sorted(str(i),reverse=direction==\"desc\"))) for i in lst]"
   ]
  },
  {
   "cell_type": "code",
   "execution_count": 2,
   "metadata": {},
   "outputs": [],
   "source": [
    "k=set('aıou')\n",
    "i=set('eiöü')\n",
    "\n",
    "def kalin_ince(s):\n",
    "    s=set(s)\n",
    "    if len(k&s)and len(i&s):\n",
    "        return False\n",
    "    else: return True"
   ]
  },
  {
   "cell_type": "code",
   "execution_count": 4,
   "metadata": {},
   "outputs": [],
   "source": [
    "class Calculator:\n",
    "    for x,y in {'add':'+','subtract':'-','multiply':'*','divide':'/'}.items():\n",
    "        exec('def ' + x + '(self, x, y): return x' + y + 'y')"
   ]
  },
  {
   "cell_type": "code",
   "execution_count": 5,
   "metadata": {},
   "outputs": [],
   "source": [
    "def tournament_scores2(y):\n",
    "    r = {}\n",
    "    for g in y:\n",
    "        f, z, _, l, t = g.split()\n",
    "        z, l = map(int, (z, l))\n",
    "        for i, z, l in ((f, z, l),(t, l, z)):\n",
    "            p = 3 if z > l else 1 if z == l else 0\n",
    "            r[i] = (r[i][0]+p, r[i][1]+z, r[i][2]+z-l) if i in r else (p, z, z-l)\n",
    "    return sorted([[k, v[0], v[1], v[2]] for k,v in r.items()], key=lambda x: x[1:], reverse=1)"
   ]
  },
  {
   "cell_type": "code",
   "execution_count": null,
   "metadata": {},
   "outputs": [],
   "source": []
  }
 ]
}