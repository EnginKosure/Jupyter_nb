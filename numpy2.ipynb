{
 "metadata": {
  "language_info": {
   "codemirror_mode": {
    "name": "ipython",
    "version": 3
   },
   "file_extension": ".py",
   "mimetype": "text/x-python",
   "name": "python",
   "nbconvert_exporter": "python",
   "pygments_lexer": "ipython3",
   "version": "3.7.6-final"
  },
  "orig_nbformat": 2,
  "kernelspec": {
   "name": "python_defaultSpec_1598325489428",
   "display_name": "Python 3.7.6 64-bit ('anaconda3': virtualenv)"
  }
 },
 "nbformat": 4,
 "nbformat_minor": 2,
 "cells": [
  {
   "cell_type": "code",
   "execution_count": 1,
   "metadata": {},
   "outputs": [],
   "source": [
    "import numpy as np"
   ]
  },
  {
   "cell_type": "code",
   "execution_count": 2,
   "metadata": {},
   "outputs": [
    {
     "output_type": "execute_result",
     "data": {
      "text/plain": "array([[ 1, 19, 91],\n       [ 2, 10, 50],\n       [ 2, 14, 81],\n       [ 1, 34, 34],\n       [ 2, 41,  6]])"
     },
     "metadata": {},
     "execution_count": 2
    }
   ],
   "source": [
    "np.random.randint(1,[3,50,100], size=(5,3))"
   ]
  },
  {
   "cell_type": "code",
   "execution_count": 3,
   "metadata": {},
   "outputs": [
    {
     "output_type": "execute_result",
     "data": {
      "text/plain": "array([[ 2, 23, 41],\n       [ 2, 44, 50],\n       [ 1, 13, 75],\n       [ 2, 13, 36],\n       [ 1, 10, 67]])"
     },
     "metadata": {},
     "execution_count": 3
    }
   ],
   "source": [
    "np.random.randint(1,[3,50,100], (5,3))"
   ]
  },
  {
   "cell_type": "code",
   "execution_count": 7,
   "metadata": {},
   "outputs": [
    {
     "output_type": "execute_result",
     "data": {
      "text/plain": "array([[14, 14, 10, 19],\n       [12, 13, 17, 19],\n       [18, 13,  8, 19],\n       [10,  7,  6, 19],\n       [17, 10,  8, 19]])"
     },
     "metadata": {},
     "execution_count": 7
    }
   ],
   "source": [
    "np.random.randint([1,3,4,19], 20, (5,4))"
   ]
  },
  {
   "cell_type": "code",
   "execution_count": 8,
   "metadata": {},
   "outputs": [],
   "source": [
    "a=np.random.randint(10,size=10)"
   ]
  },
  {
   "cell_type": "code",
   "execution_count": 9,
   "metadata": {},
   "outputs": [
    {
     "output_type": "execute_result",
     "data": {
      "text/plain": "dtype('int64')"
     },
     "metadata": {},
     "execution_count": 9
    }
   ],
   "source": [
    "a.dtype"
   ]
  },
  {
   "cell_type": "code",
   "execution_count": 10,
   "metadata": {},
   "outputs": [],
   "source": [
    "b=np.full((4,6),2.2)"
   ]
  },
  {
   "cell_type": "code",
   "execution_count": 11,
   "metadata": {},
   "outputs": [
    {
     "output_type": "execute_result",
     "data": {
      "text/plain": "array([[2.2, 2.2, 2.2, 2.2, 2.2, 2.2],\n       [2.2, 2.2, 2.2, 2.2, 2.2, 2.2],\n       [2.2, 2.2, 2.2, 2.2, 2.2, 2.2],\n       [2.2, 2.2, 2.2, 2.2, 2.2, 2.2]])"
     },
     "metadata": {},
     "execution_count": 11
    }
   ],
   "source": [
    "b"
   ]
  },
  {
   "cell_type": "code",
   "execution_count": 12,
   "metadata": {},
   "outputs": [
    {
     "output_type": "execute_result",
     "data": {
      "text/plain": "dtype('float64')"
     },
     "metadata": {},
     "execution_count": 12
    }
   ],
   "source": [
    "b.dtype"
   ]
  },
  {
   "cell_type": "code",
   "execution_count": 13,
   "metadata": {},
   "outputs": [
    {
     "output_type": "execute_result",
     "data": {
      "text/plain": "[array([2, 3]), array([4, 5])]"
     },
     "metadata": {},
     "execution_count": 13
    }
   ],
   "source": [
    "a=np.array([2,3,4,5])\n",
    "np.split(a, 2)"
   ]
  },
  {
   "cell_type": "code",
   "execution_count": 14,
   "metadata": {},
   "outputs": [],
   "source": [
    "m=np.arange(20).reshape(5,4)"
   ]
  },
  {
   "cell_type": "code",
   "execution_count": 15,
   "metadata": {},
   "outputs": [
    {
     "output_type": "execute_result",
     "data": {
      "text/plain": "array([[ 0,  1,  2,  3],\n       [ 4,  5,  6,  7],\n       [ 8,  9, 10, 11],\n       [12, 13, 14, 15],\n       [16, 17, 18, 19]])"
     },
     "metadata": {},
     "execution_count": 15
    }
   ],
   "source": [
    "m"
   ]
  },
  {
   "cell_type": "code",
   "execution_count": 16,
   "metadata": {},
   "outputs": [
    {
     "output_type": "execute_result",
     "data": {
      "text/plain": "[array([[0, 1, 2, 3],\n        [4, 5, 6, 7]]),\n array([[ 8,  9, 10, 11],\n        [12, 13, 14, 15]]),\n array([[16, 17, 18, 19]])]"
     },
     "metadata": {},
     "execution_count": 16
    }
   ],
   "source": [
    "np.split(m,[2,4])"
   ]
  },
  {
   "cell_type": "code",
   "execution_count": null,
   "metadata": {},
   "outputs": [],
   "source": []
  }
 ]
}