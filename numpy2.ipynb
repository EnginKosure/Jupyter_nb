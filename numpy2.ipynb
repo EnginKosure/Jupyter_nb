{
 "metadata": {
  "language_info": {
   "codemirror_mode": {
    "name": "ipython",
    "version": 3
   },
   "file_extension": ".py",
   "mimetype": "text/x-python",
   "name": "python",
   "nbconvert_exporter": "python",
   "pygments_lexer": "ipython3",
   "version": "3.7.6-final"
  },
  "orig_nbformat": 2,
  "kernelspec": {
   "name": "python_defaultSpec_1598325489428",
   "display_name": "Python 3.7.6 64-bit ('anaconda3': virtualenv)"
  }
 },
 "nbformat": 4,
 "nbformat_minor": 2,
 "cells": [
  {
   "cell_type": "code",
   "execution_count": 1,
   "metadata": {},
   "outputs": [],
   "source": [
    "import numpy as np"
   ]
  },
  {
   "cell_type": "code",
   "execution_count": 2,
   "metadata": {},
   "outputs": [
    {
     "output_type": "execute_result",
     "data": {
      "text/plain": "array([[ 1, 19, 91],\n       [ 2, 10, 50],\n       [ 2, 14, 81],\n       [ 1, 34, 34],\n       [ 2, 41,  6]])"
     },
     "metadata": {},
     "execution_count": 2
    }
   ],
   "source": [
    "np.random.randint(1,[3,50,100], size=(5,3))"
   ]
  },
  {
   "cell_type": "code",
   "execution_count": 3,
   "metadata": {},
   "outputs": [
    {
     "output_type": "execute_result",
     "data": {
      "text/plain": "array([[ 2, 23, 41],\n       [ 2, 44, 50],\n       [ 1, 13, 75],\n       [ 2, 13, 36],\n       [ 1, 10, 67]])"
     },
     "metadata": {},
     "execution_count": 3
    }
   ],
   "source": [
    "np.random.randint(1,[3,50,100], (5,3))"
   ]
  },
  {
   "cell_type": "code",
   "execution_count": null,
   "metadata": {},
   "outputs": [],
   "source": []
  }
 ]
}